{
 "cells": [
  {
   "cell_type": "markdown",
   "metadata": {
    "slideshow": {
     "slide_type": "slide"
    }
   },
   "source": [
    "![floss](pics/floss.jpg)\n",
    "\n",
    "# Coding Best Practices\n",
    "\n",
    "UW CLMS Treehouse  \n",
    "Autumn 2018"
   ]
  },
  {
   "cell_type": "markdown",
   "metadata": {
    "slideshow": {
     "slide_type": "slide"
    }
   },
   "source": [
    "# Roadmap\n",
    "\n",
    "- 'Best practices': Why do we care?  \n",
    "- Principles to follow  \n",
    "- Petite exercise"
   ]
  },
  {
   "cell_type": "markdown",
   "metadata": {
    "slideshow": {
     "slide_type": "slide"
    }
   },
   "source": [
    "# Why do we care?"
   ]
  },
  {
   "cell_type": "markdown",
   "metadata": {
    "slideshow": {
     "slide_type": "fragment"
    }
   },
   "source": [
    "A famous quote:  \n",
    "    \"Always code as if the guy who ends up maintaining your code   \n",
    "    will be a violent psychopath who knows where you live.   \n",
    "    Code for readability.\"\n",
    "    \n",
    "    \n",
    "![yikes](pics/scream.jpg)"
   ]
  },
  {
   "cell_type": "markdown",
   "metadata": {
    "slideshow": {
     "slide_type": "slide"
    }
   },
   "source": [
    "# More realistically, the person maintaining your code will be...  "
   ]
  },
  {
   "cell_type": "markdown",
   "metadata": {
    "slideshow": {
     "slide_type": "fragment"
    }
   },
   "source": [
    "## **YOU**, one year from now\n",
    "\n",
    "- Maybe you're brushing up for a job interview?\n",
    "- Maybe you need to submit a code sample for an application?\n",
    "- Maybe you're recycling code for a new project?\n",
    "\n",
    "**Do yourself a favor!**"
   ]
  },
  {
   "cell_type": "markdown",
   "metadata": {
    "slideshow": {
     "slide_type": "fragment"
    }
   },
   "source": [
    "## Your coworkers & collaborators\n",
    "\n",
    "- Build communication skills by making your code easy to understand!\n",
    "- Increase productivity by reducing time wasted explaining your code!\n",
    "- Help newcomers to your team get up to speed quickly!  \n",
    "\n",
    "**Nice!**"
   ]
  },
  {
   "cell_type": "markdown",
   "metadata": {
    "slideshow": {
     "slide_type": "slide"
    }
   },
   "source": [
    "# Some guidelines to follow\n",
    "\n",
    "Write code that is:\n",
    "- Readable\n",
    "- Maintainable\n",
    "- Portable"
   ]
  },
  {
   "cell_type": "markdown",
   "metadata": {
    "slideshow": {
     "slide_type": "subslide"
    }
   },
   "source": [
    "## Readable\n",
    "- Document your code!\n",
    "    - Use sensible naming\n",
    "        - Don't call variables 'x' and 'y'\n",
    "        - Give functions names that describe what they do (verb phrases!)\n",
    "        - EXCEPTION: Math functions, e.g. ```cosine_similarity(x,y)```\n",
    "    - Use descriptive comments\n",
    "        - Explain things that aren't immediately clear from function and variable names\n",
    "        - Explain how to use a module\n",
    "        - Sometimes you want to explain a particular design choice\n",
    "    - Follow style conventions\n",
    "        - It's OK to be a prescriptivist about code style!\n",
    "    - For Python: \n",
    "        - The PEP 8 Guidelines are a great place to look\n",
    "        - It's like The Elements of Style for Python code\n",
    "        - Following conventions makes it easier for other people to read your code."
   ]
  },
  {
   "cell_type": "markdown",
   "metadata": {
    "slideshow": {
     "slide_type": "subslide"
    }
   },
   "source": [
    "# Portable\n",
    "\n",
    "- Make it easy run your code in a new setting\n",
    "    - Don't hard-code file paths! (side note: don't put spaces in file paths)\n",
    "    - Don't hard-code any sort of environment variables or inputs\n",
    "    - In other words, make your code flexible / recyclable\n",
    "    - For example:\n",
    "        - Confusion matrix: Don't hard-code the number of classes or the names of classes"
   ]
  },
  {
   "cell_type": "markdown",
   "metadata": {
    "slideshow": {
     "slide_type": "subslide"
    }
   },
   "source": [
    "# Maintainable\n",
    "\n",
    "- Make your code modular\n",
    "    - If you have multiple nested loops...\n",
    "    - If you find yourself writing the same block of code multiple times...\n",
    "    - **Factor it out! Make it a function or a class.**\n",
    "        - This makes it easy to pinpoint where the problems are in your code\n",
    "        - It also makes it easier to adapt your code to new specifications"
   ]
  },
  {
   "cell_type": "markdown",
   "metadata": {
    "slideshow": {
     "slide_type": "slide"
    }
   },
   "source": [
    "# Tools that can help\n",
    "\n",
    "## Linters, e.g. pylint\n",
    "\n",
    "- Pull the 'lint' out of your code\n",
    "- Automatically check for style issues, unused code, errors\n",
    "- Provide tips for refactoring\n",
    "- Pylint gives your code a 'score' after it runs \n",
    "    - You might get hooked on trying to get a perfect score\n",
    "\n",
    "## Books!\n",
    "\n",
    "- Effective Python, by Slatkin (https://effectivepython.com/)\n",
    "- Programming Pearls, by Bentley \n",
    "- Probably 9000 other books\n",
    "\n",
    "Coding books make excellent leisure reading. \n",
    "\n",
    "\n"
   ]
  },
  {
   "cell_type": "markdown",
   "metadata": {
    "slideshow": {
     "slide_type": "slide"
    }
   },
   "source": [
    "# Time for a petite example!"
   ]
  },
  {
   "cell_type": "markdown",
   "metadata": {
    "slideshow": {
     "slide_type": "fragment"
    }
   },
   "source": [
    "Given a list of scores, return a list of each score minus the mean score.\n",
    "\n",
    "Let's call this 'shifting.'"
   ]
  },
  {
   "cell_type": "code",
   "execution_count": 2,
   "metadata": {
    "slideshow": {
     "slide_type": "fragment"
    }
   },
   "outputs": [
    {
     "data": {
      "text/plain": [
       "[-2.0, -1.0, 0.0, 1.0, 2.0]"
      ]
     },
     "execution_count": 2,
     "metadata": {},
     "output_type": "execute_result"
    }
   ],
   "source": [
    "scores = [1,2,3,4,5]\n",
    " \n",
    "def shift(scores):\n",
    "    new_scores = []\n",
    "    for score in scores:\n",
    "        mean = sum(scores) / 5 \n",
    "        new_scores.append((float(score - mean)))\n",
    "    return new_scores\n",
    "\n",
    "shift(scores)"
   ]
  },
  {
   "cell_type": "markdown",
   "metadata": {
    "slideshow": {
     "slide_type": "fragment"
    }
   },
   "source": [
    "What's wrong with this?"
   ]
  },
  {
   "cell_type": "code",
   "execution_count": 3,
   "metadata": {
    "slideshow": {
     "slide_type": "subslide"
    }
   },
   "outputs": [
    {
     "data": {
      "text/plain": [
       "[-2.0, -1.0, 0.0, 1.0, 2.0]"
      ]
     },
     "execution_count": 3,
     "metadata": {},
     "output_type": "execute_result"
    }
   ],
   "source": [
    "scores = [1,2,3,4,5]\n",
    " \n",
    "def shift(scores):\n",
    "    new_scores = []\n",
    "    for score in scores:\n",
    "        mean = sum(scores) / 5 \n",
    "        new_scores.append((float(score - mean)))\n",
    "    return new_scores\n",
    "\n",
    "shift(scores)"
   ]
  },
  {
   "cell_type": "markdown",
   "metadata": {
    "slideshow": {
     "slide_type": "fragment"
    }
   },
   "source": [
    "- You don't need to calculate the denominator 5 times!\n",
    "    - Do it before the loop.\n",
    "- This function is not portable!\n",
    "    - What if I get a list with 6 values?\n",
    "\n",
    "Let's fix it..."
   ]
  },
  {
   "cell_type": "code",
   "execution_count": 4,
   "metadata": {
    "slideshow": {
     "slide_type": "subslide"
    }
   },
   "outputs": [
    {
     "data": {
      "text/plain": [
       "[-2.0, -1.0, 0.0, 1.0, 2.0]"
      ]
     },
     "execution_count": 4,
     "metadata": {},
     "output_type": "execute_result"
    }
   ],
   "source": [
    "scores = [1,2,3,4,5]\n",
    " \n",
    "def shift(scores):\n",
    "    new_scores = []\n",
    "    mean = sum(scores) / len(scores)\n",
    "    for score in scores:\n",
    "        new_scores.append((float(score - mean)))\n",
    "    return new_scores\n",
    "\n",
    "shift(scores)"
   ]
  },
  {
   "cell_type": "markdown",
   "metadata": {
    "slideshow": {
     "slide_type": "fragment"
    }
   },
   "source": [
    "Can we do even better than this?"
   ]
  },
  {
   "cell_type": "markdown",
   "metadata": {
    "slideshow": {
     "slide_type": "fragment"
    }
   },
   "source": [
    "YOU BET! Python has list comprehensions."
   ]
  },
  {
   "cell_type": "code",
   "execution_count": 5,
   "metadata": {
    "slideshow": {
     "slide_type": "fragment"
    }
   },
   "outputs": [
    {
     "data": {
      "text/plain": [
       "[-2.0, -1.0, 0.0, 1.0, 2.0]"
      ]
     },
     "execution_count": 5,
     "metadata": {},
     "output_type": "execute_result"
    }
   ],
   "source": [
    "scores = [1,2,3,4,5]\n",
    " \n",
    "def shift(scores):\n",
    "    # Still calculate the mean ahead of time!\n",
    "    mean = sum(scores) / len(scores)\n",
    "    return [s - mean for s in scores]\n",
    "\n",
    "shift(scores)"
   ]
  },
  {
   "cell_type": "markdown",
   "metadata": {
    "slideshow": {
     "slide_type": "subslide"
    }
   },
   "source": [
    "OK. Now I have THREE lists of scores for you to shift."
   ]
  },
  {
   "cell_type": "code",
   "execution_count": 6,
   "metadata": {
    "slideshow": {
     "slide_type": "fragment"
    }
   },
   "outputs": [
    {
     "name": "stdout",
     "output_type": "stream",
     "text": [
      "[-2.0, -1.0, 0.0, 1.0, 2.0]\n",
      "[-2.0, -1.0, 0.0, 1.0, 2.0]\n",
      "[0.40000000000000036, -0.5999999999999996, -1.5999999999999996, -2.5999999999999996, 4.4]\n"
     ]
    }
   ],
   "source": [
    "score_list = [[1,2,3,4,5],\n",
    "              [2,3,4,5,6],\n",
    "              [5,4,3,2,9]]\n",
    "\n",
    "print(shift(score_list[0]))\n",
    "print(shift(score_list[1]))\n",
    "print(shift(score_list[2]))"
   ]
  },
  {
   "cell_type": "code",
   "execution_count": 7,
   "metadata": {
    "slideshow": {
     "slide_type": "fragment"
    }
   },
   "outputs": [
    {
     "name": "stdout",
     "output_type": "stream",
     "text": [
      "[-2.0, -1.0, 0.0, 1.0, 2.0]\n",
      "[-2.0, -1.0, 0.0, 1.0, 2.0]\n",
      "[0.40000000000000036, -0.5999999999999996, -1.5999999999999996, -2.5999999999999996, 4.4]\n"
     ]
    }
   ],
   "source": [
    "# What did I tell you? Don't write the same line of code twice!\n",
    "for score in score_list:\n",
    "    # Only printing this so it shows up in my presentation\n",
    "    print(shift(score))"
   ]
  },
  {
   "cell_type": "markdown",
   "metadata": {
    "slideshow": {
     "slide_type": "subslide"
    }
   },
   "source": [
    "This all seems REALLY obvious now... but it's easy to make little 'mistakes' like these as your code gets more complex and has more moving parts (especially if you are working under pressure). \n",
    "\n",
    "Keep those moving parts factored out from the start to make your code easier to debug and tweak!\n",
    "\n",
    "Give yourself the time to proofread and optimize your code.\n",
    "\n"
   ]
  },
  {
   "cell_type": "markdown",
   "metadata": {
    "slideshow": {
     "slide_type": "slide"
    }
   },
   "source": [
    "# Miscellaneous tips\n",
    "\n",
    "- Rubber duck debugging\n",
    " - Explain your code to a rubber duck who has never programmed before and needs each line explained step by step\n",
    "- Take advantage of resources!\n",
    " - Read up on the Python standard library\n",
    " - Develop your code on patas and use condor\n",
    "- Try a command-line-based text editor like vim or nano\n",
    "- Believe in yourself\n",
    "\n",
    "\n",
    "![blop](pics/blop.jpg)"
   ]
  },
  {
   "cell_type": "markdown",
   "metadata": {
    "slideshow": {
     "slide_type": "slide"
    }
   },
   "source": [
    "# Version control\n",
    "\n",
    "- A way to control your versions.\n",
    "- Git is the most commonly used."
   ]
  },
  {
   "cell_type": "markdown",
   "metadata": {
    "slideshow": {
     "slide_type": "fragment"
    }
   },
   "source": [
    "## What is it useful for? \n",
    "- Reverting to a previous state if you really fr\\*ck something up\n",
    "- Collaboration on a project\n",
    "    - Dropbox is OK, but not great for code projects!\n",
    "- Documenting changes to your codebase\n",
    "- Create a public portfolio of your code with GitHub or GitLab\n",
    "    - Impress people with your awesome work!\n",
    "\n",
    "## If you go into industry, it is highly likely that you will need to learn a version control system, so start early! "
   ]
  },
  {
   "cell_type": "markdown",
   "metadata": {
    "slideshow": {
     "slide_type": "slide"
    }
   },
   "source": [
    "# Getting started with version control\n",
    "\n",
    "- Tutorial: [Try Git](http://try.github.io)\n",
    "- Some IDEs integrate with version control\n",
    "    - e.g, PyCharm, which has a very nice graphical interface for resolving conflicts in code\n",
    "    - (What's an IDE? 'Integrated development environment')\n",
    "        - (Often has built-in linter, compiler / interpreter, other features to streamline your workflow)\n"
   ]
  },
  {
   "cell_type": "markdown",
   "metadata": {
    "slideshow": {
     "slide_type": "slide"
    }
   },
   "source": [
    "# Bonus material: IPython\n",
    "\n",
    "## IPython: Interactive Python\n",
    "- Enhanced REPL\n",
    "    - Scroll up through history for **whole functions**, not just lines!\n",
    "    - Supports Unix commands (no need to `import os`!)\n",
    "    - Tab completion\n",
    "    - Magic commands to show you names of variables, time your code, ...\n",
    "- IPython Notebook\n",
    "    - Make slides like these\n",
    "    - Showcase projects in a lab notebook format\n",
    "        - With in-line graphics!\n",
    "    - Easily export to .py"
   ]
  },
  {
   "cell_type": "markdown",
   "metadata": {
    "slideshow": {
     "slide_type": "slide"
    }
   },
   "source": [
    "# Using pandas in an IPython Notebook"
   ]
  },
  {
   "cell_type": "code",
   "execution_count": 11,
   "metadata": {
    "slideshow": {
     "slide_type": "fragment"
    }
   },
   "outputs": [
    {
     "data": {
      "text/html": [
       "<div>\n",
       "<style scoped>\n",
       "    .dataframe tbody tr th:only-of-type {\n",
       "        vertical-align: middle;\n",
       "    }\n",
       "\n",
       "    .dataframe tbody tr th {\n",
       "        vertical-align: top;\n",
       "    }\n",
       "\n",
       "    .dataframe thead th {\n",
       "        text-align: right;\n",
       "    }\n",
       "</style>\n",
       "<table border=\"1\" class=\"dataframe\">\n",
       "  <thead>\n",
       "    <tr style=\"text-align: right;\">\n",
       "      <th></th>\n",
       "      <th>type</th>\n",
       "      <th>cuteness</th>\n",
       "    </tr>\n",
       "  </thead>\n",
       "  <tbody>\n",
       "    <tr>\n",
       "      <th>0</th>\n",
       "      <td>dog</td>\n",
       "      <td>100</td>\n",
       "    </tr>\n",
       "    <tr>\n",
       "      <th>1</th>\n",
       "      <td>cat</td>\n",
       "      <td>100</td>\n",
       "    </tr>\n",
       "    <tr>\n",
       "      <th>2</th>\n",
       "      <td>bird</td>\n",
       "      <td>100</td>\n",
       "    </tr>\n",
       "  </tbody>\n",
       "</table>\n",
       "</div>"
      ],
      "text/plain": [
       "   type  cuteness\n",
       "0   dog       100\n",
       "1   cat       100\n",
       "2  bird       100"
      ]
     },
     "execution_count": 11,
     "metadata": {},
     "output_type": "execute_result"
    }
   ],
   "source": [
    "import pandas as pd\n",
    "\n",
    "data = pd.read_csv('cute_things.csv')\n",
    "data.head()"
   ]
  },
  {
   "cell_type": "markdown",
   "metadata": {
    "slideshow": {
     "slide_type": "slide"
    }
   },
   "source": [
    "# Did you learn something new? "
   ]
  },
  {
   "cell_type": "markdown",
   "metadata": {
    "slideshow": {
     "slide_type": "fragment"
    }
   },
   "source": [
    "If you found this utterly boring --- that's good!  \n",
    "You know as much, or more, than I do."
   ]
  },
  {
   "cell_type": "markdown",
   "metadata": {
    "slideshow": {
     "slide_type": "fragment"
    }
   },
   "source": [
    "Or, I am really boring.  \n",
    "\n",
    "# Thanks!"
   ]
  },
  {
   "cell_type": "markdown",
   "metadata": {
    "slideshow": {
     "slide_type": "slide"
    }
   },
   "source": [
    "\n",
    "\n",
    "# Bonus material: The famous Fibonacci problem\n",
    " \n",
    "```python\n",
    "def fibonacci(n):\n",
    "    if n<0:\n",
    "        print(\"Incorrect input\")\n",
    "    # First Fibonacci number is 0\n",
    "    elif n==1:\n",
    "        return 0\n",
    "    # Second Fibonacci number is 1\n",
    "    elif n==2:\n",
    "        return 1\n",
    "    else:\n",
    "        return fibonacci(n-1)+fibonacci(n-2)\n",
    "```\n",
    "\n",
    "## What's wrong with the above?"
   ]
  },
  {
   "cell_type": "markdown",
   "metadata": {
    "slideshow": {
     "slide_type": "fragment"
    }
   },
   "source": [
    "### You're duplicating operations... WHAT A WASTE\n",
    "Use dynamic programming!\n",
    "\n",
    "\n",
    "```python\n",
    "\n",
    "fib_numbers = [0,1]\n",
    " \n",
    "def fibonacci(n):\n",
    "    if n<0:\n",
    "        print(\"Incorrect input\")\n",
    "    elif n<=len(fib_numbers):\n",
    "        return fib_numbers[n-1]\n",
    "    else:\n",
    "        temp_fib = fibonacci(n-1)+fibonacci(n-2)\n",
    "        fib_numbers.append(temp_fib)\n",
    "        return temp_fib\n",
    "    \n",
    "```"
   ]
  },
  {
   "cell_type": "code",
   "execution_count": null,
   "metadata": {},
   "outputs": [],
   "source": []
  }
 ],
 "metadata": {
  "celltoolbar": "Slideshow",
  "kernelspec": {
   "display_name": "Python 3",
   "language": "python",
   "name": "python3"
  },
  "language_info": {
   "codemirror_mode": {
    "name": "ipython",
    "version": 3
   },
   "file_extension": ".py",
   "mimetype": "text/x-python",
   "name": "python",
   "nbconvert_exporter": "python",
   "pygments_lexer": "ipython3",
   "version": "3.6.4"
  }
 },
 "nbformat": 4,
 "nbformat_minor": 2
}

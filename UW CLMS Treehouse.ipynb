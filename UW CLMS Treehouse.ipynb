{
 "cells": [
  {
   "cell_type": "markdown",
   "metadata": {
    "slideshow": {
     "slide_type": "slide"
    }
   },
   "source": [
    "# Coding Best Practices\n",
    "\n",
    "UW CLMS Treehouse  \n",
    "01 February 2018"
   ]
  },
  {
   "cell_type": "markdown",
   "metadata": {
    "slideshow": {
     "slide_type": "slide"
    }
   },
   "source": [
    "# Roadmap\n",
    "\n",
    "- 'Best practices': Why do we care?  \n",
    "- Style guidelines  \n",
    "- Troubleshooting  \n",
    "- Version control"
   ]
  },
  {
   "cell_type": "markdown",
   "metadata": {
    "slideshow": {
     "slide_type": "slide"
    }
   },
   "source": [
    "# Why do we care?"
   ]
  },
  {
   "cell_type": "markdown",
   "metadata": {
    "slideshow": {
     "slide_type": "fragment"
    }
   },
   "source": [
    "A famous quote:  \n",
    "    \"Always code as if the guy who ends up maintaining your code   \n",
    "    will be a violent psychopath who knows where you live.   \n",
    "    Code for readability.\"  "
   ]
  },
  {
   "cell_type": "markdown",
   "metadata": {
    "slideshow": {
     "slide_type": "fragment"
    }
   },
   "source": [
    "![alt text](scream.jpg)"
   ]
  },
  {
   "cell_type": "markdown",
   "metadata": {
    "slideshow": {
     "slide_type": "slide"
    }
   },
   "source": [
    "More realistically, the person maintaining your code will be...  \n",
    "    • **YOU**, one year from now  \n",
    "    • Maybe you're boning up for a job interview?  \n",
    "    • Maybe you need to submit a code sample for an application?    \n",
    "    • Maybe you're refactoring code for work (or for a class)!\n",
    "    \n",
    "    \n",
    "Do yourself a favor!"
   ]
  },
  {
   "cell_type": "markdown",
   "metadata": {
    "slideshow": {
     "slide_type": "slide"
    }
   },
   "source": [
    "# So... how do I make my code readable?\n",
    "\n",
    "- In general:\n",
    "    - Document your code!\n",
    "        - Use sensible naming\n",
    "        - Use comments that make sense\n",
    "    - Follow style conventions\n",
    "        - It's OK to be a prescriptivist about code style :o\n",
    "    - \n",
    "\n",
    "- For Python: \n",
    "    - The PEP8 Guidelines are a great place to look.\n",
    "It's like The Elements of Style for Python Code.\n",
    "Style conventions help your code stay readable and maintainable.\n",
    "\n",
    "Some points to keep in mind:\n",
    "\n",
    "Conventions of naming\n",
    " - style: lower case for variables and functions, and with underscores between words\n",
    " - Make names descriptive. don't call variables x & y\n",
    "     - in rare circumstances, for example a mathematical function, then go ahead and use x and y\n",
    "     \n",
    "Maintainable code:\n",
    "    Modularize it!\n",
    "    - If you have multiple nested loops\n",
    "    - If you find yourself writing the same block of code multiple times...\n",
    "    - Factor it out! Make it a function or a class.\n",
    "    For example, if you are processing a document, you may want to keep track of different aspects of the document.\n",
    "    -make it portable / extendable\n",
    "\n",
    "Someone might change the specs on you; make it easy on yourself to ADAPT your code."
   ]
  },
  {
   "cell_type": "markdown",
   "metadata": {
    "slideshow": {
     "slide_type": "slide"
    }
   },
   "source": [
    "Linters check for code. e.g. pylint\n",
    "- It gives you a 'score' for adhering to the PEP8 and other guidelines\n",
    "- And tips for improving it\n",
    "- You might get hooked on trying to get a perfect score"
   ]
  },
  {
   "cell_type": "code",
   "execution_count": null,
   "metadata": {
    "collapsed": true
   },
   "outputs": [],
   "source": [
    "Resources:\n",
    "    https://effectivepython.com/\n",
    "        "
   ]
  },
  {
   "cell_type": "markdown",
   "metadata": {
    "slideshow": {
     "slide_type": "-"
    }
   },
   "source": [
    "example: top 5 most frequent words?\n",
    "\n",
    "most frequent word in a list:\n",
    "    \n",
    "\n",
    "example: fibonacci\n",
    "\n",
    "\n",
    "# Function for nth Fibonacci number\n",
    " \n",
    "def Fibonacci(n):\n",
    "    if n<0:\n",
    "        print(\"Incorrect input\")\n",
    "    # First Fibonacci number is 0\n",
    "    elif n==1:\n",
    "        return 0\n",
    "    # Second Fibonacci number is 1\n",
    "    elif n==2:\n",
    "        return 1\n",
    "    else:\n",
    "        return Fibonacci(n-1)+Fibonacci(n-2)\n",
    "        \n",
    "FibArray = [0,1]\n",
    " \n",
    "def fibonacci(n):\n",
    "    if n<0:\n",
    "        print(\"Incorrect input\")\n",
    "    elif n<=len(FibArray):\n",
    "        return FibArray[n-1]\n",
    "    else:\n",
    "        temp_fib = fibonacci(n-1)+fibonacci(n-2)\n",
    "        FibArray.append(temp_fib)\n",
    "        return temp_fib\n",
    "    \n",
    "        "
   ]
  },
  {
   "cell_type": "markdown",
   "metadata": {
    "slideshow": {
     "slide_type": "slide"
    }
   },
   "source": [
    "Debugging your code\n",
    "\n",
    "- If you have made your code MODULAR.. it can be easier to pinpoint where the problem is!\n",
    "- If you haven't heard of rubber-duck debugging... \n",
    "    - Talk through your code. Make sure you know what's  going on at every step.\n"
   ]
  },
  {
   "cell_type": "markdown",
   "metadata": {
    "slideshow": {
     "slide_type": "slide"
    }
   },
   "source": [
    "Interlude: example\n",
    "Given a list of scores, return a list of each score normalized by the mean.\n",
    "```python\n",
    "    scores = [1,2,3,4,5]\n",
    "    \n",
    "    new_scores = []\n",
    "    for score in scores:\n",
    "        denominator = sum(scores)\n",
    "        new_scores.append((float(score / denominator))\n",
    "```\n",
    "What's wrong with this?\n"
   ]
  },
  {
   "cell_type": "markdown",
   "metadata": {
    "slideshow": {
     "slide_type": "fragment"
    }
   },
   "source": [
    "You don't need to calculate the denominator 5 times!\n",
    "Do it ahead of time!\n",
    "\n",
    "```python\n",
    "    scores = [1,2,3,4,5]\n",
    "    \n",
    "    new_scores = []\n",
    "    denominator = sum(scores)\n",
    "    for score in scores:\n",
    "        new_scores.append((float(score / denominator))\n",
    "```\n",
    "\n",
    "You don't even need a loop! You can use a list comprehension:\n",
    "```python\n",
    "# Still calculate the denominator ahead of time... \n",
    "denominator = sum(scores)\n",
    "return [s / denominator for s in scores]\n",
    "```\n",
    "\n",
    "Now I want you to normalize 5 lists.\n",
    "```python\n",
    "return [s / sum(scores) for s in scores_1]\n",
    "return [s / sum(scores) for s in scores_2]\n",
    "return [s / sum(scores) for s in scores_3]\n",
    "return [s / sum(scores) for s in scores_4]\n",
    "return [s / sum(scores) for s in scores_5]\n",
    "```\n",
    "Remember: If you catch yourself writing identical lines or blocks of code: make it a function!\n",
    "\n",
    "def normalize(list):\n",
    "    denominator = sum(list)\n",
    "    return [s / denominator for s in list]\n",
    "    \n",
    "This all seems REALLY obvious now... but it's easy to make little 'mistakes' as your code gets more complex and has more moving parts. Keep those moving parts modularized from the start to make it easier to debug and tweak!\n",
    "\n"
   ]
  },
  {
   "cell_type": "markdown",
   "metadata": {
    "slideshow": {
     "slide_type": "slide"
    }
   },
   "source": [
    "Version control\n",
    "(maybe everyone already uses it)\n",
    "\n",
    "Super important!\n",
    "- For school work: if you f*cked something up and need to revert to a previous state\n",
    "- For collaborating with peers on school work. (Dropbox is OK, but not great)\n",
    "- Great for documenting updates to your codebase\n",
    "\n",
    "- If you use GitHub for your school projects, You'll have a public portfolio of your awesome work to show to interviewers!\n",
    "\n",
    "- If you do go into industry, it is highly likely that you will need to learn a version control system, so start early! \n",
    "\n",
    "- Git and SVN are the biggest\n",
    "- Git examples? \n",
    "\n",
    "\n",
    "Some IDEs integrate with version control;\n",
    "PyCharm has a very nice graphical interface for resolving conflicts in code. \n",
    "(What's an IDE? 'Integrated development environment'\n",
    "- Analogous to a word processor, often has built-in linter, compiler / interpreter, fun features \n",
    "\n",
    "Emacs vs vim\n",
    "- every terminal has vim (?)\n",
    "- if you aren't already developing your code on patas... you should try it\n",
    "- or at least run your code on patas.\n",
    "\n"
   ]
  },
  {
   "cell_type": "markdown",
   "metadata": {},
   "source": [
    "Did you learn something new? "
   ]
  }
 ],
 "metadata": {
  "celltoolbar": "Slideshow",
  "kernelspec": {
   "display_name": "Python 3",
   "language": "python",
   "name": "python3"
  },
  "language_info": {
   "codemirror_mode": {
    "name": "ipython",
    "version": 3
   },
   "file_extension": ".py",
   "mimetype": "text/x-python",
   "name": "python",
   "nbconvert_exporter": "python",
   "pygments_lexer": "ipython3",
   "version": "3.6.2"
  }
 },
 "nbformat": 4,
 "nbformat_minor": 2
}

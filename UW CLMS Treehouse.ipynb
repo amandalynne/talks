{
 "cells": [
  {
   "cell_type": "markdown",
   "metadata": {
    "slideshow": {
     "slide_type": "slide"
    }
   },
   "source": [
    "# Coding Best Practices\n",
    "\n",
    "UW CLMS Treehouse  \n",
    "01 February 2018"
   ]
  },
  {
   "cell_type": "markdown",
   "metadata": {
    "slideshow": {
     "slide_type": "slide"
    }
   },
   "source": [
    "# Roadmap\n",
    "\n",
    "- 'Best practices': Why do we care?  \n",
    "- Principles to follow  \n",
    "- Petite workshop\n",
    "- Version control  "
   ]
  },
  {
   "cell_type": "markdown",
   "metadata": {
    "slideshow": {
     "slide_type": "slide"
    }
   },
   "source": [
    "# Why do we care?"
   ]
  },
  {
   "cell_type": "markdown",
   "metadata": {
    "slideshow": {
     "slide_type": "fragment"
    }
   },
   "source": [
    "A famous quote:  \n",
    "    \"Always code as if the guy who ends up maintaining your code   \n",
    "    will be a violent psychopath who knows where you live.   \n",
    "    Code for readability.\"  "
   ]
  },
  {
   "cell_type": "markdown",
   "metadata": {
    "slideshow": {
     "slide_type": "fragment"
    }
   },
   "source": [
    "![alt text](scream.jpg)"
   ]
  },
  {
   "cell_type": "markdown",
   "metadata": {
    "slideshow": {
     "slide_type": "slide"
    }
   },
   "source": [
    "# More realistically, the person maintaining your code will be...  "
   ]
  },
  {
   "cell_type": "markdown",
   "metadata": {
    "slideshow": {
     "slide_type": "fragment"
    }
   },
   "source": [
    "## **YOU**, one year from now\n",
    "\n",
    "- Maybe you're boning up for a job interview?\n",
    "- Maybe you need to submit a code sample for an application?\n",
    "- Maybe you're recycling code for a new project?\n",
    "\n",
    " **Do yourself a favor!**"
   ]
  },
  {
   "cell_type": "markdown",
   "metadata": {
    "slideshow": {
     "slide_type": "fragment"
    }
   },
   "source": [
    "## Your coworkers & collaborators\n",
    "\n",
    "- Build communication skills by making your code easy to understand!\n",
    "- Increase productivity by reducing time wasted explaining your code!\n",
    "- Help newcomers to your team get up to speed quickly!  \n",
    "\n",
    " **Nice!**"
   ]
  },
  {
   "cell_type": "markdown",
   "metadata": {
    "slideshow": {
     "slide_type": "slide"
    }
   },
   "source": [
    "# Some guidelines to follow\n",
    "\n",
    "Write code that is:\n",
    "- Readable\n",
    "- Maintainable\n",
    "- Portable"
   ]
  },
  {
   "cell_type": "markdown",
   "metadata": {
    "slideshow": {
     "slide_type": "subslide"
    }
   },
   "source": [
    "## Readable\n",
    "- Document your code!\n",
    "    - Use sensible naming\n",
    "        - Don't call variables 'x' and 'y'\n",
    "        - Give functions names that describe what they do (verb phrases!)\n",
    "        - EXCEPTION: Math functions, e.g. ```cosine_similarity(x,y)```\n",
    "    - Use descriptive comments\n",
    "        - Explain things that aren't immediately clear from function and variable names\n",
    "        - Explain how to use a module\n",
    "        - Sometimes you want to explain a particular design choice\n",
    "    - Follow style conventions\n",
    "        - It's OK to be a prescriptivist about code style!\n",
    "    - For Python: \n",
    "        - The PEP 8 Guidelines are a great place to look.\n",
    "        - It's like The Elements of Style for Python code.\n",
    "        - Following conventions makes it easier for other people to read your code."
   ]
  },
  {
   "cell_type": "markdown",
   "metadata": {
    "slideshow": {
     "slide_type": "subslide"
    }
   },
   "source": [
    "# Portable\n",
    "\n",
    "- Make it easy run your code in a new setting\n",
    "    - Don't hard-code file paths! \n",
    "    - Don't hard-code any sort of variable input\n",
    "        - For example, number of classes in a classifier\n",
    "    - In other words, make your code flexible"
   ]
  },
  {
   "cell_type": "markdown",
   "metadata": {
    "slideshow": {
     "slide_type": "subslide"
    }
   },
   "source": [
    "# Maintainable\n",
    "\n",
    "- Make your code modular\n",
    "    - If you have multiple nested loops...\n",
    "    - If you find yourself writing the same block of code multiple times...\n",
    "    - **Factor it out! Make it a function or a class.**\n",
    "        - This makes it easy to pinpoint where the problems are in your code\n",
    "        - It also makes it easier to adapt your code to new specifications"
   ]
  },
  {
   "cell_type": "markdown",
   "metadata": {
    "slideshow": {
     "slide_type": "slide"
    }
   },
   "source": [
    "# Tools that can help\n",
    "\n",
    "## Linters, e.g. pylint\n",
    "\n",
    "- Pull the 'lint' out of your code\n",
    "- Automatically check for style issues, unused code, errors\n",
    "- Provide tips for refactoring\n",
    "- Pylint gives your code a 'score' after it runs \n",
    "    - You might get hooked on trying to get a perfect score\n",
    "\n",
    "## Books!\n",
    "\n",
    "- Effective Python, by Slatkin (https://effectivepython.com/)\n",
    "- Programming Pearls, by Bentley \n",
    "- Probably 9000 other books\n",
    "\n",
    "Coding books make excellent leisure reading. \n",
    "\n",
    "\n"
   ]
  },
  {
   "cell_type": "markdown",
   "metadata": {
    "slideshow": {
     "slide_type": "slide"
    }
   },
   "source": [
    "# Time for a petite example!"
   ]
  },
  {
   "cell_type": "markdown",
   "metadata": {
    "slideshow": {
     "slide_type": "fragment"
    }
   },
   "source": [
    "Given a list of scores, return a list of each score minus the mean score.\n",
    "\n",
    "Let's call this 'shifting.'"
   ]
  },
  {
   "cell_type": "code",
   "execution_count": 13,
   "metadata": {
    "slideshow": {
     "slide_type": "fragment"
    }
   },
   "outputs": [
    {
     "data": {
      "text/plain": [
       "[-2.0, -1.0, 0.0, 1.0, 2.0]"
      ]
     },
     "execution_count": 13,
     "metadata": {},
     "output_type": "execute_result"
    }
   ],
   "source": [
    "scores = [1,2,3,4,5]\n",
    " \n",
    "def shift(scores):\n",
    "    new_scores = []\n",
    "    for score in scores:\n",
    "        mean = sum(scores) / 5 \n",
    "        new_scores.append((float(score - mean)))\n",
    "    return new_scores\n",
    "\n",
    "shift(scores)"
   ]
  },
  {
   "cell_type": "markdown",
   "metadata": {
    "slideshow": {
     "slide_type": "fragment"
    }
   },
   "source": [
    "What's wrong with this?"
   ]
  },
  {
   "cell_type": "markdown",
   "metadata": {
    "slideshow": {
     "slide_type": "fragment"
    }
   },
   "source": [
    "- You don't need to calculate the denominator 5 times!\n",
    "    - Do it before the loop.\n",
    "- This function is not portable!\n",
    "    - What if I get a list with 6 values?\n",
    "\n",
    "Let's fix it..."
   ]
  },
  {
   "cell_type": "code",
   "execution_count": 11,
   "metadata": {
    "slideshow": {
     "slide_type": "subslide"
    }
   },
   "outputs": [
    {
     "data": {
      "text/plain": [
       "[-2.0, -1.0, 0.0, 1.0, 2.0]"
      ]
     },
     "execution_count": 11,
     "metadata": {},
     "output_type": "execute_result"
    }
   ],
   "source": [
    "scores = [1,2,3,4,5]\n",
    " \n",
    "def shift(scores):\n",
    "    new_scores = []\n",
    "    mean = sum(scores) / len(scores)\n",
    "    for score in scores:\n",
    "        new_scores.append((float(score - mean)))\n",
    "    return new_scores\n",
    "\n",
    "shift(scores)"
   ]
  },
  {
   "cell_type": "markdown",
   "metadata": {
    "slideshow": {
     "slide_type": "fragment"
    }
   },
   "source": [
    "Can we do even better than this?"
   ]
  },
  {
   "cell_type": "markdown",
   "metadata": {
    "slideshow": {
     "slide_type": "fragment"
    }
   },
   "source": [
    "YOU BET! Python has list comprehensions."
   ]
  },
  {
   "cell_type": "code",
   "execution_count": 15,
   "metadata": {
    "slideshow": {
     "slide_type": "fragment"
    }
   },
   "outputs": [
    {
     "data": {
      "text/plain": [
       "[-2.0, -1.0, 0.0, 1.0, 2.0]"
      ]
     },
     "execution_count": 15,
     "metadata": {},
     "output_type": "execute_result"
    }
   ],
   "source": [
    "scores = [1,2,3,4,5]\n",
    " \n",
    "def shift(scores):\n",
    "    # Still calculate the mean ahead of time!\n",
    "    mean = sum(scores) / len(scores)\n",
    "    return [s - mean for s in scores]\n",
    "\n",
    "shift(scores)"
   ]
  },
  {
   "cell_type": "markdown",
   "metadata": {
    "slideshow": {
     "slide_type": "subslide"
    }
   },
   "source": [
    "OK. Now I have TWO lists of scores for you to shift."
   ]
  },
  {
   "cell_type": "code",
   "execution_count": 22,
   "metadata": {
    "slideshow": {
     "slide_type": "fragment"
    }
   },
   "outputs": [
    {
     "data": {
      "text/plain": [
       "[-2.0, -1.0, 0.0, 1.0, 2.0]"
      ]
     },
     "execution_count": 22,
     "metadata": {},
     "output_type": "execute_result"
    }
   ],
   "source": [
    "score_list = [[1,2,3,4,5],\n",
    "          [2,3,4,5,6]]\n",
    "\n",
    "shift(score_list[0])\n",
    "shift(score_list[1])"
   ]
  },
  {
   "cell_type": "code",
   "execution_count": 23,
   "metadata": {
    "slideshow": {
     "slide_type": "fragment"
    }
   },
   "outputs": [],
   "source": [
    "for score in score_list:\n",
    "    shift(score)"
   ]
  },
  {
   "cell_type": "markdown",
   "metadata": {
    "slideshow": {
     "slide_type": "fragment"
    }
   },
   "source": [
    "This all seems REALLY obvious now... but it's easy to make little 'mistakes' like these as your code gets more complex and has more moving parts (especially if you are working under pressure). Keep those moving parts factored out from the start to make your code easier to debug and tweak!\n",
    "\n"
   ]
  },
  {
   "cell_type": "markdown",
   "metadata": {
    "slideshow": {
     "slide_type": "slide"
    }
   },
   "source": [
    "Version control\n",
    "(maybe everyone already uses it)\n",
    "\n",
    "Super important!\n",
    "- For school work: if you f*cked something up and need to revert to a previous state\n",
    "- For collaborating with peers on school work. (Dropbox is OK, but not great)\n",
    "- Great for documenting updates to your codebase\n",
    "\n",
    "- If you use GitHub for your school projects, You'll have a public portfolio of your awesome work to show to interviewers!\n",
    "\n",
    "- If you do go into industry, it is highly likely that you will need to learn a version control system, so start early! \n",
    "\n",
    "- Git and SVN are the biggest\n",
    "- Git examples? \n",
    "\n",
    "\n",
    "Some IDEs integrate with version control;\n",
    "PyCharm has a very nice graphical interface for resolving conflicts in code. \n",
    "(What's an IDE? 'Integrated development environment'\n",
    "- Analogous to a word processor, often has built-in linter, compiler / interpreter, fun features \n",
    "\n",
    "Emacs vs vim\n",
    "- every terminal has vim (?)\n",
    "- if you aren't already developing your code on patas... you should try it\n",
    "- or at least run your code on patas.\n",
    "\n"
   ]
  },
  {
   "cell_type": "markdown",
   "metadata": {},
   "source": [
    "Did you learn something new? "
   ]
  },
  {
   "cell_type": "markdown",
   "metadata": {
    "slideshow": {
     "slide_type": "-"
    }
   },
   "source": [
    "example: top 5 most frequent words?\n",
    "\n",
    "most frequent word in a list:\n",
    "    \n",
    "\n",
    "example: fibonacci\n",
    "\n",
    "\n",
    "# Function for nth Fibonacci number\n",
    " \n",
    "def Fibonacci(n):\n",
    "    if n<0:\n",
    "        print(\"Incorrect input\")\n",
    "    # First Fibonacci number is 0\n",
    "    elif n==1:\n",
    "        return 0\n",
    "    # Second Fibonacci number is 1\n",
    "    elif n==2:\n",
    "        return 1\n",
    "    else:\n",
    "        return Fibonacci(n-1)+Fibonacci(n-2)\n",
    "        \n",
    "FibArray = [0,1]\n",
    " \n",
    "def fibonacci(n):\n",
    "    if n<0:\n",
    "        print(\"Incorrect input\")\n",
    "    elif n<=len(FibArray):\n",
    "        return FibArray[n-1]\n",
    "    else:\n",
    "        temp_fib = fibonacci(n-1)+fibonacci(n-2)\n",
    "        FibArray.append(temp_fib)\n",
    "        return temp_fib\n",
    "    \n",
    "        "
   ]
  }
 ],
 "metadata": {
  "celltoolbar": "Slideshow",
  "kernelspec": {
   "display_name": "Python 3",
   "language": "python",
   "name": "python3"
  },
  "language_info": {
   "codemirror_mode": {
    "name": "ipython",
    "version": 3
   },
   "file_extension": ".py",
   "mimetype": "text/x-python",
   "name": "python",
   "nbconvert_exporter": "python",
   "pygments_lexer": "ipython3",
   "version": "3.6.2"
  }
 },
 "nbformat": 4,
 "nbformat_minor": 2
}

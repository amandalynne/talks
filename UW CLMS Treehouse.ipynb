{
 "cells": [
  {
   "cell_type": "markdown",
   "metadata": {
    "slideshow": {
     "slide_type": "slide"
    }
   },
   "source": [
    "# Coding Best Practices\n",
    "\n",
    "UW CLMS Treehouse  \n",
    "01 February 2018"
   ]
  },
  {
   "cell_type": "markdown",
   "metadata": {
    "slideshow": {
     "slide_type": "slide"
    }
   },
   "source": [
    "# Roadmap\n",
    "\n",
    "• Why do we care?  \n",
    "• Style guidelines  \n",
    "• Troubleshooting  \n",
    "• Version control"
   ]
  },
  {
   "cell_type": "markdown",
   "metadata": {
    "slideshow": {
     "slide_type": "slide"
    }
   },
   "source": [
    "# Why do we care?"
   ]
  },
  {
   "cell_type": "markdown",
   "metadata": {
    "slideshow": {
     "slide_type": "fragment"
    }
   },
   "source": [
    "A famous quote:  \n",
    "    \"Always code as if the guy who ends up maintaining your code   \n",
    "    will be a violent psychopath who knows where you live.   \n",
    "    Code for readability.\"  \n",
    "    \n",
    "(image)"
   ]
  },
  {
   "cell_type": "code",
   "execution_count": 3,
   "metadata": {
    "collapsed": false,
    "slideshow": {
     "slide_type": "fragment"
    }
   },
   "outputs": [
    {
     "data": {
      "text/html": [
       "<img src=\"https://cdn.miramax.com/media/_versions/screamfeat2_square_md.jpg\"/>"
      ],
      "text/plain": [
       "<IPython.core.display.Image object>"
      ]
     },
     "execution_count": 3,
     "metadata": {},
     "output_type": "execute_result"
    }
   ],
   "source": [
    "from IPython.display import Image\n",
    "from IPython.core.display import HTML \n",
    "Image(url= \"https://cdn.miramax.com/media/_versions/screamfeat2_square_md.jpg\")"
   ]
  },
  {
   "cell_type": "markdown",
   "metadata": {
    "slideshow": {
     "slide_type": "fragment"
    }
   },
   "source": [
    "More realistically, the person maintaining your code will be...  \n",
    "    • **YOU**, one year from now  \n",
    "    • Maybe you're boning up for a job interview?  \n",
    "    • Maybe you need to submit a code sample?    \n",
    "    • Maybe you're refactoring code at work!\n",
    "    \n",
    "    \n",
    "Do yourself a favor!"
   ]
  },
  {
   "cell_type": "markdown",
   "metadata": {
    "slideshow": {
     "slide_type": "slide"
    }
   },
   "source": [
    "# So... how do I make my code readable?\n",
    "\n",
    "The PEP8 Guidelines are a great place to look.\n",
    "It's like The Elements of Style for Python Code.\n",
    "Unlike with natural languages, prescriptivism in programming languages is actually OK.\n",
    "\n",
    "(maybe a drake image)\n",
    "\n",
    "\n",
    "Some points to keep in mind:\n",
    "\n",
    "Conventions of naming\n",
    " - style: lower case for variables and functions, and with underscores between words\n",
    " - Make names descriptive. don't call variables x & y\n",
    "     - in rare circumstances, for example a mathematical function, then go ahead and use x and y\n",
    "     \n",
    "Maintainable code:\n",
    "    Modularize it!\n",
    "    - If you have multiple nested loops\n",
    "    - If you find yourself writing the same block of code multiple times...\n",
    "    -Factor it out! Make it a function or a class.\n",
    "    For example, if you are processing a document, you may want to keep track of different aspects of the document.\n",
    "you COULD just store a variable with the length of the document\n",
    "OR you could make the document a class, and have the length be an attribute. more efficient!\n",
    "    "
   ]
  },
  {
   "cell_type": "markdown",
   "metadata": {},
   "source": [
    "Debugging your code\n",
    "\n",
    "- If you have made your code MODULAR.. it can be easier to pinpoint where the problem is!\n",
    "- If you haven't heard of rubber-duck debugging... \n",
    "    - Talk through your code. Make sure you know what's  going on at every step.\n"
   ]
  },
  {
   "cell_type": "markdown",
   "metadata": {},
   "source": [
    "Version control\n",
    "(maybe everyone already uses it)\n",
    "\n",
    "Super important!\n",
    "- For school work: if you f*cked something up and need to revert to a previous state\n",
    "- For collaborating with peers on school work. (Dropbox is OK, but not great)\n",
    "- Great for documenting updates to your codebase\n",
    "\n",
    "- If you use GitHub for your school projects, You'll have a public portfolio of your awesome work to show to interviewers!\n",
    "\n",
    "- If you do go into industry, it is highly likely that you will need to learn a version control system, so start early! "
   ]
  }
 ],
 "metadata": {
  "celltoolbar": "Slideshow",
  "kernelspec": {
   "display_name": "Python 3",
   "language": "python",
   "name": "python3"
  },
  "language_info": {
   "codemirror_mode": {
    "name": "ipython",
    "version": 3
   },
   "file_extension": ".py",
   "mimetype": "text/x-python",
   "name": "python",
   "nbconvert_exporter": "python",
   "pygments_lexer": "ipython3",
   "version": "3.6.0"
  }
 },
 "nbformat": 4,
 "nbformat_minor": 2
}
